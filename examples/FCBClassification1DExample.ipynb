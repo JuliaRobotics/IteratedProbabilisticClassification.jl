{
 "cells": [
  {
   "cell_type": "code",
   "execution_count": null,
   "metadata": {
    "collapsed": false
   },
   "outputs": [],
   "source": [
    "using KernelDensityEstimate\n",
    "using Gadfly\n",
    "using Distributions, StatsBase\n",
    "using IteratedProbabilisticClassification\n",
    "# don't mind syntax warnings, these are being removed from package dependencies over time"
   ]
  },
  {
   "cell_type": "code",
   "execution_count": null,
   "metadata": {
    "collapsed": false
   },
   "outputs": [],
   "source": [
    "# modified EM classification algorithm has these major tuning parameter \n",
    "params = TuningParameters(\n",
    "Mfair=300,   # Cluster distribution approximation accuracy, more is better: 50 is bare minium, and computation slow above ~1000\n",
    "EMiters=40  # expectation maximization iterations to refine Cluster belief estimate classification assignments: 5 is minimum, and diminishing returns beyond ~70\n",
    ")\n",
    "\n",
    "# Example: simulated data with ground truth for reference\n",
    "N1, N2 = 5000, 1000\n",
    "# N1, N2 = 4000, 3000\n",
    "data, groundtruth = simdata01_true(N1=N1,N2=N2)\n",
    "\n",
    "# actual distribution of data\n",
    "Gadfly.set_default_plot_size(20cm, 7cm)\n",
    "plot(x=data.samples, Geom.histogram)"
   ]
  },
  {
   "cell_type": "code",
   "execution_count": null,
   "metadata": {
    "collapsed": false
   },
   "outputs": [],
   "source": [
    "Gadfly.set_default_plot_size(20cm, 7cm)\n",
    "plot(\n",
    "layer(x=data.samples[1,groundtruth.assignment .== 2], Geom.histogram,Theme(default_color=colorant\"red\")),\n",
    "layer(x=data.samples[1,groundtruth.assignment .== 1], Geom.histogram)\n",
    ")"
   ]
  },
  {
   "cell_type": "code",
   "execution_count": null,
   "metadata": {
    "collapsed": false
   },
   "outputs": [],
   "source": [
    "# Ground truth distribution of underlying data clusters\n",
    "Gadfly.set_default_plot_size(20cm, 7cm)\n",
    "# a generic 1D plotting tool for IteratedProbablisticClassification \n",
    "plotUtil1D(groundtruth=groundtruth)"
   ]
  },
  {
   "cell_type": "code",
   "execution_count": null,
   "metadata": {
    "collapsed": false
   },
   "outputs": [],
   "source": [
    "# belief from expert prediction, also used for initialization\n",
    "c1_expert = kde!(3.5*randn(params.Mfair).-2.0); # Pretty much a normal distribution\n",
    "c2_expert = kde!(2.0*randn(params.Mfair).+5.0); # Pretty much a normal distribution\n",
    "\n",
    "# cs is the main structure which classification algorithm will operate on, and modify during execution\n",
    "cs = ClassificationSystem(\n",
    "2,                              # number of categories or classes available for assignment\n",
    "Dict(1=>\"class1\", 2=>\"class2\"), # names of classes\n",
    "Dict(1=>\"blue\", 2=>\"red\"),      # default plotting colors\n",
    "Dict(1=>c1_expert, 2=>c2_expert), # user forcing behaviour (expert guidance); required\n",
    "Dict(1=>deepcopy(c1_expert), 2=>deepcopy(c2_expert)), # initialize temporal prediction (forward-backward smoothing)\n",
    "Dict(1=>deepcopy(c1_expert), 2=>deepcopy(c2_expert)), # initialize current belief (0 iterations)\n",
    "rand(Categorical([0.5;0.5]),length(data.samples)) # initialize samples with random assignment, 50/50% in this 2 class case\n",
    ");\n",
    "println()"
   ]
  },
  {
   "cell_type": "code",
   "execution_count": null,
   "metadata": {
    "collapsed": false
   },
   "outputs": [],
   "source": [
    "# expert may modify expertBelief using output from previous run of classification algorithm\n",
    "# pts = getPoints(cs.currentBelief[1])\n",
    "# cs.expertBelief[1] = kde!(dispersePoints(pts, MvNormal([-1.0],[1.0]) ))\n",
    "# pts = getPoints(cs.currentBelief[2])\n",
    "# cs.expertBelief[2] = kde!(dispersePoints(pts, MvNormal([2.0],[1.0]) ))\n",
    "# println()"
   ]
  },
  {
   "cell_type": "code",
   "execution_count": null,
   "metadata": {
    "collapsed": false
   },
   "outputs": [],
   "source": [
    "Gadfly.set_default_plot_size(20cm, 7cm)\n",
    "# plotUtil1D(cs=cs) # if we didn't have gt\n",
    "plotUtil1D(groundtruth=groundtruth, cs=cs)"
   ]
  },
  {
   "cell_type": "code",
   "execution_count": null,
   "metadata": {
    "collapsed": false
   },
   "outputs": [],
   "source": [
    "# simulation data allows us to debug with absolute knowledge\n",
    "dbg = defaultDebugResults()\n",
    "\n",
    "# do the classification\n",
    "stats = EMClassificationRun!(params, cs, data, debug=dbg, groundtruth=groundtruth);\n",
    "println()"
   ]
  },
  {
   "cell_type": "code",
   "execution_count": null,
   "metadata": {
    "collapsed": false
   },
   "outputs": [],
   "source": [
    "Gadfly.set_default_plot_size(20cm, 10cm)\n",
    "plotUtil1D(cs=cs, groundtruth=groundtruth,\n",
    "  drawcurrent=true, \n",
    "  expertcolor=Dict(1=>\"gray\",2=>\"gray\")\n",
    ")"
   ]
  },
  {
   "cell_type": "code",
   "execution_count": null,
   "metadata": {
    "collapsed": false
   },
   "outputs": [],
   "source": [
    "sum(cs.assignment .== 1), sum(cs.assignment .== 2)"
   ]
  },
  {
   "cell_type": "code",
   "execution_count": null,
   "metadata": {
    "collapsed": false
   },
   "outputs": [],
   "source": [
    "Gadfly.set_default_plot_size(20cm, 10cm)\n",
    "plot(\n",
    "layer(x=data.samples[1,cs.assignment .== 2], Geom.histogram,Theme(default_color=colorant\"red\")),\n",
    "layer(x=data.samples[1,cs.assignment .== 1], Geom.histogram)\n",
    ")"
   ]
  },
  {
   "cell_type": "code",
   "execution_count": null,
   "metadata": {
    "collapsed": false
   },
   "outputs": [],
   "source": [
    "# proxy to convergence of classification algorithm, always available from stats structure\n",
    "Gadfly.set_default_plot_size(20cm, 15cm)\n",
    "plotEMStatus(params,stats)"
   ]
  },
  {
   "cell_type": "code",
   "execution_count": null,
   "metadata": {
    "collapsed": false
   },
   "outputs": [],
   "source": [
    "# only available when ground truth data is available\n",
    "Gadfly.set_default_plot_size(20cm, 15cm)\n",
    "plotClassificationStats(params, dbg)"
   ]
  },
  {
   "cell_type": "code",
   "execution_count": null,
   "metadata": {
    "collapsed": false
   },
   "outputs": [],
   "source": [
    "# pts = getPoints(cs.expertBelief[1])\n",
    "# pts2 = dispersePoints(pts, MvNormal([0.0],[3.0]) )\n",
    "# p2 = kde!(pts2)\n",
    "# plotKDE([cs.expertBelief[1];p2])"
   ]
  },
  {
   "cell_type": "code",
   "execution_count": null,
   "metadata": {
    "collapsed": true
   },
   "outputs": [],
   "source": []
  }
 ],
 "metadata": {
  "kernelspec": {
   "display_name": "Julia 0.4.7",
   "language": "julia",
   "name": "julia-0.4"
  },
  "language_info": {
   "file_extension": ".jl",
   "mimetype": "application/julia",
   "name": "julia",
   "version": "0.4.7"
  }
 },
 "nbformat": 4,
 "nbformat_minor": 0
}
